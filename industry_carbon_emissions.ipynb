{
 "cells": [
  {
   "cell_type": "markdown",
   "id": "92217973-dade-42ed-8221-bfa73c35521b",
   "metadata": {},
   "source": [
    "# Industry carbon emissions"
   ]
  },
  {
   "cell_type": "markdown",
   "id": "d0eb4f16-5a99-460d-a5ba-706b7ef0bbe7",
   "metadata": {
    "id": "bA5ajAmk7XH6"
   },
   "source": [
    "When factoring heat generation required for the manufacturing and transportation of products, _Greenhouse gas emissions attributable to products, from food to sneakers to appliances, make up more than 75% of global emissions._ -[The Carbon Catalogue](https://www.nature.com/articles/s41597-022-01178-9)\n",
    "\n",
    "Our data, which is publicly available on [nature.com](https://www.nature.com/articles/s41597-022-01178-9), contains product carbon footprints (PCFs) for various companies. PCFs are the greenhouse gas emissions attributable to a given product, measured in CO<sub>2</sub> (carbon dioxide equivalent).\n",
    "\n",
    "This data is stored in a PostgreSQL database containing one table, `prouduct_emissions`, which looks at PCFs by product as well as the stage of production that these emissions occurred. Here's a snapshot of what `product_emissions` contains in each column:\n",
    "\n",
    "### `product_emissions`\n",
    "\n",
    "| field                              | data type |\n",
    "|------------------------------------|-----------|\n",
    "| `id`                                 | `VARCHAR`   |\n",
    "| `year`                               | `INT`       |\n",
    "| `product_name`                       | `VARCHAR`   |\n",
    "| `company`                            | `VARCHAR`   |\n",
    "| `country`                            | `VARCHAR`   |\n",
    "| `industry_group`                     | `VARCHAR`   |\n",
    "| `weight_kg`                          | `NUMERIC`   |\n",
    "| `carbon_footprint_pcf`               | `NUMERIC`   |\n",
    "| `upstream_percent_total_pcf`         | `VARCHAR`   |\n",
    "| `operations_percent_total_pcf`       | `VARCHAR`   |\n",
    "| `downstream_percent_total_pcf`       | `VARCHAR`   |\n",
    "\n",
    "You'll use this data to examine the carbon footprint of each industry in the dataset!"
   ]
  },
  {
   "cell_type": "markdown",
   "id": "c71552d8-ac34-45cb-be29-9b2347385651",
   "metadata": {},
   "source": [
    "## 1. Dataset overview"
   ]
  },
  {
   "cell_type": "code",
   "execution_count": 75,
   "id": "37753325-ea58-4c86-b644-6081a5f58a9c",
   "metadata": {
    "customType": "sql",
    "dataFrameVariableName": "df0",
    "executionCancelledAt": null,
    "executionTime": 904,
    "lastExecutedAt": 1698683912093,
    "lastScheduledRunId": null,
    "lastSuccessfullyExecutedCode": "-- dataset overview\nSELECT *\nFROM product_emissions\nLIMIT 10;",
    "outputsMetadata": {
     "0": {
      "height": 331,
      "type": "dataFrame"
     }
    },
    "sqlCellMode": "dataFrame",
    "sqlSource": {
     "integrationId": "89e17161-a224-4a8a-846b-0adc0fe7a4b1",
     "type": "integration"
    }
   },
   "outputs": [
    {
     "@datacamp/metadata": {
      "executedQuery": "-- dataset overview\nSELECT *\nFROM product_emissions\nLIMIT 10;",
      "executedQueryParameters": []
     },
     "data": {
      "application/com.datacamp.data-table.v1+json": {
       "table": {
        "data": [
         {
          "carbon_footprint_pcf": 2,
          "company": "Kellogg Company",
          "country": "USA",
          "downstream_percent_total_pcf": "12.50%",
          "id": "10056-1-2014",
          "index": 0,
          "industry_group": "Food, Beverage & Tobacco",
          "operations_percent_total_pcf": "30.00%",
          "product_name": "Frosted Flakes(R) Cereal",
          "upstream_percent_total_pcf": "57.50%",
          "weight_kg": 0.7485,
          "year": 2014
         },
         {
          "carbon_footprint_pcf": 2,
          "company": "Kellogg Company",
          "country": "USA",
          "downstream_percent_total_pcf": "12.50%",
          "id": "10056-1-2015",
          "index": 1,
          "industry_group": "Food & Beverage Processing",
          "operations_percent_total_pcf": "30.00%",
          "product_name": "Frosted Flakes, 23 oz, produced in Lancaster, PA (one carton)",
          "upstream_percent_total_pcf": "57.50%",
          "weight_kg": 0.7485,
          "year": 2015
         },
         {
          "carbon_footprint_pcf": 72.54,
          "company": "KNOLL INC",
          "country": "USA",
          "downstream_percent_total_pcf": "2.01%",
          "id": "10222-1-2013",
          "index": 2,
          "industry_group": "Capital Goods",
          "operations_percent_total_pcf": "17.36%",
          "product_name": "Office Chair",
          "upstream_percent_total_pcf": "80.63%",
          "weight_kg": 20.68,
          "year": 2013
         },
         {
          "carbon_footprint_pcf": 1488,
          "company": "Konica Minolta, Inc.",
          "country": "Japan",
          "downstream_percent_total_pcf": "63.84%",
          "id": "10261-1-2017",
          "index": 3,
          "industry_group": "Technology Hardware & Equipment",
          "operations_percent_total_pcf": "5.51%",
          "product_name": "Multifunction Printers",
          "upstream_percent_total_pcf": "30.65%",
          "weight_kg": 110,
          "year": 2017
         },
         {
          "carbon_footprint_pcf": 1818,
          "company": "Konica Minolta, Inc.",
          "country": "Japan",
          "downstream_percent_total_pcf": "70.41%",
          "id": "10261-2-2017",
          "index": 4,
          "industry_group": "Technology Hardware & Equipment",
          "operations_percent_total_pcf": "4.51%",
          "product_name": "Multifunction Printers",
          "upstream_percent_total_pcf": "25.08%",
          "weight_kg": 110,
          "year": 2017
         },
         {
          "carbon_footprint_pcf": 2274,
          "company": "Konica Minolta, Inc.",
          "country": "Japan",
          "downstream_percent_total_pcf": "76.34%",
          "id": "10261-3-2017",
          "index": 5,
          "industry_group": "Technology Hardware & Equipment",
          "operations_percent_total_pcf": "3.61%",
          "product_name": "Multifunction Printers",
          "upstream_percent_total_pcf": "20.05%",
          "weight_kg": 110,
          "year": 2017
         },
         {
          "carbon_footprint_pcf": 10000,
          "company": "Kuraray Co., Ltd.",
          "country": "Japan",
          "downstream_percent_total_pcf": "N/a (product with insufficient stage-level data)",
          "id": "10324-1-2016",
          "index": 6,
          "industry_group": "Materials",
          "operations_percent_total_pcf": "N/a (product with insufficient stage-level data)",
          "product_name": "KURALON  fiber",
          "upstream_percent_total_pcf": "N/a (product with insufficient stage-level data)",
          "weight_kg": 1500,
          "year": 2016
         },
         {
          "carbon_footprint_pcf": 1102,
          "company": "Lafarge S.A.",
          "country": "France",
          "downstream_percent_total_pcf": "N/a (product with insufficient stage-level data)",
          "id": "10418-1-2013",
          "index": 7,
          "industry_group": "Materials",
          "operations_percent_total_pcf": "N/a (product with insufficient stage-level data)",
          "product_name": "Portland Cement",
          "upstream_percent_total_pcf": "N/a (product with insufficient stage-level data)",
          "weight_kg": 1000,
          "year": 2013
         },
         {
          "carbon_footprint_pcf": 15,
          "company": "Levi Strauss & Co.",
          "country": "USA",
          "downstream_percent_total_pcf": "N/a (product with insufficient stage-level data)",
          "id": "10661-10-2014",
          "index": 8,
          "industry_group": "Consumer Durables & Apparel",
          "operations_percent_total_pcf": "N/a (product with insufficient stage-level data)",
          "product_name": "Regular Straight 505® Jeans – Steel (Water<Less™)",
          "upstream_percent_total_pcf": "N/a (product with insufficient stage-level data)",
          "weight_kg": 0.7665,
          "year": 2014
         },
         {
          "carbon_footprint_pcf": 15,
          "company": "Levi Strauss & Co.",
          "country": "USA",
          "downstream_percent_total_pcf": "N/a (product with insufficient stage-level data)",
          "id": "10661-10-2015",
          "index": 9,
          "industry_group": "Textiles, Apparel, Footwear and Luxury Goods",
          "operations_percent_total_pcf": "N/a (product with insufficient stage-level data)",
          "product_name": "Regular Straight 505® Jeans – Steel (Water<Less™)",
          "upstream_percent_total_pcf": "N/a (product with insufficient stage-level data)",
          "weight_kg": 0.7665,
          "year": 2015
         }
        ],
        "schema": {
         "fields": [
          {
           "name": "index",
           "type": "integer"
          },
          {
           "name": "id",
           "type": "string"
          },
          {
           "name": "year",
           "type": "integer"
          },
          {
           "name": "product_name",
           "type": "string"
          },
          {
           "name": "company",
           "type": "string"
          },
          {
           "name": "country",
           "type": "string"
          },
          {
           "name": "industry_group",
           "type": "string"
          },
          {
           "name": "weight_kg",
           "type": "number"
          },
          {
           "name": "carbon_footprint_pcf",
           "type": "number"
          },
          {
           "name": "upstream_percent_total_pcf",
           "type": "string"
          },
          {
           "name": "operations_percent_total_pcf",
           "type": "string"
          },
          {
           "name": "downstream_percent_total_pcf",
           "type": "string"
          }
         ],
         "pandas_version": "1.4.0",
         "primaryKey": [
          "index"
         ]
        }
       },
       "total_rows": 10,
       "truncation_type": null
      },
      "text/html": [
       "<div>\n",
       "<style scoped>\n",
       "    .dataframe tbody tr th:only-of-type {\n",
       "        vertical-align: middle;\n",
       "    }\n",
       "\n",
       "    .dataframe tbody tr th {\n",
       "        vertical-align: top;\n",
       "    }\n",
       "\n",
       "    .dataframe thead th {\n",
       "        text-align: right;\n",
       "    }\n",
       "</style>\n",
       "<table border=\"1\" class=\"dataframe\">\n",
       "  <thead>\n",
       "    <tr style=\"text-align: right;\">\n",
       "      <th></th>\n",
       "      <th>id</th>\n",
       "      <th>year</th>\n",
       "      <th>product_name</th>\n",
       "      <th>company</th>\n",
       "      <th>country</th>\n",
       "      <th>industry_group</th>\n",
       "      <th>weight_kg</th>\n",
       "      <th>carbon_footprint_pcf</th>\n",
       "      <th>upstream_percent_total_pcf</th>\n",
       "      <th>operations_percent_total_pcf</th>\n",
       "      <th>downstream_percent_total_pcf</th>\n",
       "    </tr>\n",
       "  </thead>\n",
       "  <tbody>\n",
       "    <tr>\n",
       "      <th>0</th>\n",
       "      <td>10056-1-2014</td>\n",
       "      <td>2014</td>\n",
       "      <td>Frosted Flakes(R) Cereal</td>\n",
       "      <td>Kellogg Company</td>\n",
       "      <td>USA</td>\n",
       "      <td>Food, Beverage &amp; Tobacco</td>\n",
       "      <td>0.7485</td>\n",
       "      <td>2.00</td>\n",
       "      <td>57.50%</td>\n",
       "      <td>30.00%</td>\n",
       "      <td>12.50%</td>\n",
       "    </tr>\n",
       "    <tr>\n",
       "      <th>1</th>\n",
       "      <td>10056-1-2015</td>\n",
       "      <td>2015</td>\n",
       "      <td>Frosted Flakes, 23 oz, produced in Lancaster, ...</td>\n",
       "      <td>Kellogg Company</td>\n",
       "      <td>USA</td>\n",
       "      <td>Food &amp; Beverage Processing</td>\n",
       "      <td>0.7485</td>\n",
       "      <td>2.00</td>\n",
       "      <td>57.50%</td>\n",
       "      <td>30.00%</td>\n",
       "      <td>12.50%</td>\n",
       "    </tr>\n",
       "    <tr>\n",
       "      <th>2</th>\n",
       "      <td>10222-1-2013</td>\n",
       "      <td>2013</td>\n",
       "      <td>Office Chair</td>\n",
       "      <td>KNOLL INC</td>\n",
       "      <td>USA</td>\n",
       "      <td>Capital Goods</td>\n",
       "      <td>20.6800</td>\n",
       "      <td>72.54</td>\n",
       "      <td>80.63%</td>\n",
       "      <td>17.36%</td>\n",
       "      <td>2.01%</td>\n",
       "    </tr>\n",
       "    <tr>\n",
       "      <th>3</th>\n",
       "      <td>10261-1-2017</td>\n",
       "      <td>2017</td>\n",
       "      <td>Multifunction Printers</td>\n",
       "      <td>Konica Minolta, Inc.</td>\n",
       "      <td>Japan</td>\n",
       "      <td>Technology Hardware &amp; Equipment</td>\n",
       "      <td>110.0000</td>\n",
       "      <td>1488.00</td>\n",
       "      <td>30.65%</td>\n",
       "      <td>5.51%</td>\n",
       "      <td>63.84%</td>\n",
       "    </tr>\n",
       "    <tr>\n",
       "      <th>4</th>\n",
       "      <td>10261-2-2017</td>\n",
       "      <td>2017</td>\n",
       "      <td>Multifunction Printers</td>\n",
       "      <td>Konica Minolta, Inc.</td>\n",
       "      <td>Japan</td>\n",
       "      <td>Technology Hardware &amp; Equipment</td>\n",
       "      <td>110.0000</td>\n",
       "      <td>1818.00</td>\n",
       "      <td>25.08%</td>\n",
       "      <td>4.51%</td>\n",
       "      <td>70.41%</td>\n",
       "    </tr>\n",
       "    <tr>\n",
       "      <th>5</th>\n",
       "      <td>10261-3-2017</td>\n",
       "      <td>2017</td>\n",
       "      <td>Multifunction Printers</td>\n",
       "      <td>Konica Minolta, Inc.</td>\n",
       "      <td>Japan</td>\n",
       "      <td>Technology Hardware &amp; Equipment</td>\n",
       "      <td>110.0000</td>\n",
       "      <td>2274.00</td>\n",
       "      <td>20.05%</td>\n",
       "      <td>3.61%</td>\n",
       "      <td>76.34%</td>\n",
       "    </tr>\n",
       "    <tr>\n",
       "      <th>6</th>\n",
       "      <td>10324-1-2016</td>\n",
       "      <td>2016</td>\n",
       "      <td>KURALON  fiber</td>\n",
       "      <td>Kuraray Co., Ltd.</td>\n",
       "      <td>Japan</td>\n",
       "      <td>Materials</td>\n",
       "      <td>1500.0000</td>\n",
       "      <td>10000.00</td>\n",
       "      <td>N/a (product with insufficient stage-level data)</td>\n",
       "      <td>N/a (product with insufficient stage-level data)</td>\n",
       "      <td>N/a (product with insufficient stage-level data)</td>\n",
       "    </tr>\n",
       "    <tr>\n",
       "      <th>7</th>\n",
       "      <td>10418-1-2013</td>\n",
       "      <td>2013</td>\n",
       "      <td>Portland Cement</td>\n",
       "      <td>Lafarge S.A.</td>\n",
       "      <td>France</td>\n",
       "      <td>Materials</td>\n",
       "      <td>1000.0000</td>\n",
       "      <td>1102.00</td>\n",
       "      <td>N/a (product with insufficient stage-level data)</td>\n",
       "      <td>N/a (product with insufficient stage-level data)</td>\n",
       "      <td>N/a (product with insufficient stage-level data)</td>\n",
       "    </tr>\n",
       "    <tr>\n",
       "      <th>8</th>\n",
       "      <td>10661-10-2014</td>\n",
       "      <td>2014</td>\n",
       "      <td>Regular Straight 505® Jeans – Steel (Water&lt;Less™)</td>\n",
       "      <td>Levi Strauss &amp; Co.</td>\n",
       "      <td>USA</td>\n",
       "      <td>Consumer Durables &amp; Apparel</td>\n",
       "      <td>0.7665</td>\n",
       "      <td>15.00</td>\n",
       "      <td>N/a (product with insufficient stage-level data)</td>\n",
       "      <td>N/a (product with insufficient stage-level data)</td>\n",
       "      <td>N/a (product with insufficient stage-level data)</td>\n",
       "    </tr>\n",
       "    <tr>\n",
       "      <th>9</th>\n",
       "      <td>10661-10-2015</td>\n",
       "      <td>2015</td>\n",
       "      <td>Regular Straight 505® Jeans – Steel (Water&lt;Less™)</td>\n",
       "      <td>Levi Strauss &amp; Co.</td>\n",
       "      <td>USA</td>\n",
       "      <td>Textiles, Apparel, Footwear and Luxury Goods</td>\n",
       "      <td>0.7665</td>\n",
       "      <td>15.00</td>\n",
       "      <td>N/a (product with insufficient stage-level data)</td>\n",
       "      <td>N/a (product with insufficient stage-level data)</td>\n",
       "      <td>N/a (product with insufficient stage-level data)</td>\n",
       "    </tr>\n",
       "  </tbody>\n",
       "</table>\n",
       "</div>"
      ],
      "text/plain": [
       "              id  ...                      downstream_percent_total_pcf\n",
       "0   10056-1-2014  ...                                            12.50%\n",
       "1   10056-1-2015  ...                                            12.50%\n",
       "2   10222-1-2013  ...                                             2.01%\n",
       "3   10261-1-2017  ...                                            63.84%\n",
       "4   10261-2-2017  ...                                            70.41%\n",
       "5   10261-3-2017  ...                                            76.34%\n",
       "6   10324-1-2016  ...  N/a (product with insufficient stage-level data)\n",
       "7   10418-1-2013  ...  N/a (product with insufficient stage-level data)\n",
       "8  10661-10-2014  ...  N/a (product with insufficient stage-level data)\n",
       "9  10661-10-2015  ...  N/a (product with insufficient stage-level data)\n",
       "\n",
       "[10 rows x 11 columns]"
      ]
     },
     "execution_count": 75,
     "metadata": {},
     "output_type": "execute_result"
    }
   ],
   "source": [
    "-- dataset overview\n",
    "SELECT *\n",
    "FROM product_emissions\n",
    "LIMIT 10;"
   ]
  },
  {
   "cell_type": "markdown",
   "id": "10f92a37-7951-425f-a0f4-d7c4cfcdf08a",
   "metadata": {},
   "source": [
    "## 2. Companies breakdown for product carbon footprint"
   ]
  },
  {
   "cell_type": "code",
   "execution_count": 76,
   "id": "2cf7fc36-5999-4c09-9be0-a4a82dacefa6",
   "metadata": {
    "chartConfig": {
     "bar": {
      "hasRoundedCorners": true,
      "stacked": false
     },
     "type": "bar",
     "version": "v1"
    },
    "customType": "sql",
    "dataFrameVariableName": "df1",
    "executionCancelledAt": null,
    "executionTime": 888,
    "lastExecutedAt": 1698683912982,
    "lastScheduledRunId": null,
    "lastSuccessfullyExecutedCode": "-- number of companies\n-- combined PCF per industry group\n-- order by PCF high to low\nSELECT industry_group,\n\t   COUNT(DISTINCT company) AS num_companies,\n\t   ROUND(SUM(carbon_footprint_pcf), 1) AS total_industry_footprint\nFROM product_emissions\nGROUP BY industry_group\nORDER BY total_industry_footprint DESC;",
    "outputsMetadata": {
     "0": {
      "height": 316,
      "type": "dataFrame"
     }
    },
    "sqlCellMode": "dataFrame",
    "sqlSource": {
     "integrationId": "89e17161-a224-4a8a-846b-0adc0fe7a4b1",
     "type": "integration"
    },
    "visualizeDataframe": false
   },
   "outputs": [
    {
     "@datacamp/metadata": {
      "executedQuery": "-- number of companies\n-- combined PCF per industry group\n-- order by PCF high to low\nSELECT industry_group,\n\t   COUNT(DISTINCT company) AS num_companies,\n\t   ROUND(SUM(carbon_footprint_pcf), 1) AS total_industry_footprint\nFROM product_emissions\nGROUP BY industry_group\nORDER BY total_industry_footprint DESC;",
      "executedQueryParameters": []
     },
     "data": {
      "application/com.datacamp.data-table.v1+json": {
       "table": {
        "data": [
         {
          "index": 0,
          "industry_group": "Electrical Equipment and Machinery",
          "num_companies": 7,
          "total_industry_footprint": 9801557.6
         },
         {
          "index": 1,
          "industry_group": "Automobiles & Components",
          "num_companies": 8,
          "total_industry_footprint": 2582263.4
         },
         {
          "index": 2,
          "industry_group": "Materials",
          "num_companies": 34,
          "total_industry_footprint": 430198.4
         },
         {
          "index": 3,
          "industry_group": "Technology Hardware & Equipment",
          "num_companies": 32,
          "total_industry_footprint": 278653.9
         },
         {
          "index": 4,
          "industry_group": "Capital Goods",
          "num_companies": 15,
          "total_industry_footprint": 258632.7
         },
         {
          "index": 5,
          "industry_group": "Food, Beverage & Tobacco",
          "num_companies": 22,
          "total_industry_footprint": 109134.6
         },
         {
          "index": 6,
          "industry_group": "Pharmaceuticals, Biotechnology & Life Sciences",
          "num_companies": 1,
          "total_industry_footprint": 72486
         },
         {
          "index": 7,
          "industry_group": "Software & Services",
          "num_companies": 3,
          "total_industry_footprint": 46534.5
         },
         {
          "index": 8,
          "industry_group": "Chemicals",
          "num_companies": 8,
          "total_industry_footprint": 44939.7
         },
         {
          "index": 9,
          "industry_group": "Media",
          "num_companies": 2,
          "total_industry_footprint": 23016.7
         },
         {
          "index": 10,
          "industry_group": "Energy",
          "num_companies": 4,
          "total_industry_footprint": 10774.1
         },
         {
          "index": 11,
          "industry_group": "Forest and Paper Products - Forestry, Timber, Pulp and Paper, Rubber",
          "num_companies": 3,
          "total_industry_footprint": 8909.5
         },
         {
          "index": 12,
          "industry_group": "Mining - Iron, Aluminum, Other Metals",
          "num_companies": 1,
          "total_industry_footprint": 8181
         },
         {
          "index": 13,
          "industry_group": "Consumer Durables & Apparel",
          "num_companies": 10,
          "total_industry_footprint": 7096.7
         },
         {
          "index": 14,
          "industry_group": "Commercial & Professional Services",
          "num_companies": 4,
          "total_industry_footprint": 4920.6
         },
         {
          "index": 15,
          "industry_group": "Containers & Packaging",
          "num_companies": 4,
          "total_industry_footprint": 2988.1
         },
         {
          "index": 16,
          "industry_group": "Tires",
          "num_companies": 1,
          "total_industry_footprint": 2021.7
         },
         {
          "index": 17,
          "industry_group": "Food & Staples Retailing",
          "num_companies": 3,
          "total_industry_footprint": 1482.8
         },
         {
          "index": 18,
          "industry_group": "Consumer Durables, Household and Personal Products",
          "num_companies": 2,
          "total_industry_footprint": 931
         },
         {
          "index": 19,
          "industry_group": "Telecommunication Services",
          "num_companies": 2,
          "total_industry_footprint": 417.6
         },
         {
          "index": 20,
          "industry_group": "Trading Companies & Distributors and Commercial Services & Supplies",
          "num_companies": 1,
          "total_industry_footprint": 238.5
         },
         {
          "index": 21,
          "industry_group": "Textiles, Apparel, Footwear and Luxury Goods",
          "num_companies": 2,
          "total_industry_footprint": 227.2
         },
         {
          "index": 22,
          "industry_group": "Food & Beverage Processing",
          "num_companies": 6,
          "total_industry_footprint": 139.2
         },
         {
          "index": 23,
          "industry_group": "Utilities",
          "num_companies": 1,
          "total_industry_footprint": 121.2
         },
         {
          "index": 24,
          "industry_group": "Gas Utilities",
          "num_companies": 1,
          "total_industry_footprint": 60.6
         },
         {
          "index": 25,
          "industry_group": "Semiconductors & Semiconductor Equipment",
          "num_companies": 2,
          "total_industry_footprint": 51.7
         },
         {
          "index": 26,
          "industry_group": "Retailing",
          "num_companies": 1,
          "total_industry_footprint": 21.8
         },
         {
          "index": 27,
          "industry_group": "Semiconductors & Semiconductors Equipment",
          "num_companies": 1,
          "total_industry_footprint": 2.1
         },
         {
          "index": 28,
          "industry_group": "Tobacco",
          "num_companies": 1,
          "total_industry_footprint": 0.7
         },
         {
          "index": 29,
          "industry_group": "Household & Personal Products",
          "num_companies": 1,
          "total_industry_footprint": 0.3
         }
        ],
        "schema": {
         "fields": [
          {
           "name": "index",
           "type": "integer"
          },
          {
           "name": "industry_group",
           "type": "string"
          },
          {
           "name": "num_companies",
           "type": "integer"
          },
          {
           "name": "total_industry_footprint",
           "type": "number"
          }
         ],
         "pandas_version": "1.4.0",
         "primaryKey": [
          "index"
         ]
        }
       },
       "total_rows": 30,
       "truncation_type": null
      },
      "text/html": [
       "<div>\n",
       "<style scoped>\n",
       "    .dataframe tbody tr th:only-of-type {\n",
       "        vertical-align: middle;\n",
       "    }\n",
       "\n",
       "    .dataframe tbody tr th {\n",
       "        vertical-align: top;\n",
       "    }\n",
       "\n",
       "    .dataframe thead th {\n",
       "        text-align: right;\n",
       "    }\n",
       "</style>\n",
       "<table border=\"1\" class=\"dataframe\">\n",
       "  <thead>\n",
       "    <tr style=\"text-align: right;\">\n",
       "      <th></th>\n",
       "      <th>industry_group</th>\n",
       "      <th>num_companies</th>\n",
       "      <th>total_industry_footprint</th>\n",
       "    </tr>\n",
       "  </thead>\n",
       "  <tbody>\n",
       "    <tr>\n",
       "      <th>0</th>\n",
       "      <td>Electrical Equipment and Machinery</td>\n",
       "      <td>7</td>\n",
       "      <td>9801557.6</td>\n",
       "    </tr>\n",
       "    <tr>\n",
       "      <th>1</th>\n",
       "      <td>Automobiles &amp; Components</td>\n",
       "      <td>8</td>\n",
       "      <td>2582263.4</td>\n",
       "    </tr>\n",
       "    <tr>\n",
       "      <th>2</th>\n",
       "      <td>Materials</td>\n",
       "      <td>34</td>\n",
       "      <td>430198.4</td>\n",
       "    </tr>\n",
       "    <tr>\n",
       "      <th>3</th>\n",
       "      <td>Technology Hardware &amp; Equipment</td>\n",
       "      <td>32</td>\n",
       "      <td>278653.9</td>\n",
       "    </tr>\n",
       "    <tr>\n",
       "      <th>4</th>\n",
       "      <td>Capital Goods</td>\n",
       "      <td>15</td>\n",
       "      <td>258632.7</td>\n",
       "    </tr>\n",
       "    <tr>\n",
       "      <th>5</th>\n",
       "      <td>Food, Beverage &amp; Tobacco</td>\n",
       "      <td>22</td>\n",
       "      <td>109134.6</td>\n",
       "    </tr>\n",
       "    <tr>\n",
       "      <th>6</th>\n",
       "      <td>Pharmaceuticals, Biotechnology &amp; Life Sciences</td>\n",
       "      <td>1</td>\n",
       "      <td>72486.0</td>\n",
       "    </tr>\n",
       "    <tr>\n",
       "      <th>7</th>\n",
       "      <td>Software &amp; Services</td>\n",
       "      <td>3</td>\n",
       "      <td>46534.5</td>\n",
       "    </tr>\n",
       "    <tr>\n",
       "      <th>8</th>\n",
       "      <td>Chemicals</td>\n",
       "      <td>8</td>\n",
       "      <td>44939.7</td>\n",
       "    </tr>\n",
       "    <tr>\n",
       "      <th>9</th>\n",
       "      <td>Media</td>\n",
       "      <td>2</td>\n",
       "      <td>23016.7</td>\n",
       "    </tr>\n",
       "    <tr>\n",
       "      <th>10</th>\n",
       "      <td>Energy</td>\n",
       "      <td>4</td>\n",
       "      <td>10774.1</td>\n",
       "    </tr>\n",
       "    <tr>\n",
       "      <th>11</th>\n",
       "      <td>Forest and Paper Products - Forestry, Timber, ...</td>\n",
       "      <td>3</td>\n",
       "      <td>8909.5</td>\n",
       "    </tr>\n",
       "    <tr>\n",
       "      <th>12</th>\n",
       "      <td>Mining - Iron, Aluminum, Other Metals</td>\n",
       "      <td>1</td>\n",
       "      <td>8181.0</td>\n",
       "    </tr>\n",
       "    <tr>\n",
       "      <th>13</th>\n",
       "      <td>Consumer Durables &amp; Apparel</td>\n",
       "      <td>10</td>\n",
       "      <td>7096.7</td>\n",
       "    </tr>\n",
       "    <tr>\n",
       "      <th>14</th>\n",
       "      <td>Commercial &amp; Professional Services</td>\n",
       "      <td>4</td>\n",
       "      <td>4920.6</td>\n",
       "    </tr>\n",
       "    <tr>\n",
       "      <th>15</th>\n",
       "      <td>Containers &amp; Packaging</td>\n",
       "      <td>4</td>\n",
       "      <td>2988.1</td>\n",
       "    </tr>\n",
       "    <tr>\n",
       "      <th>16</th>\n",
       "      <td>Tires</td>\n",
       "      <td>1</td>\n",
       "      <td>2021.7</td>\n",
       "    </tr>\n",
       "    <tr>\n",
       "      <th>17</th>\n",
       "      <td>Food &amp; Staples Retailing</td>\n",
       "      <td>3</td>\n",
       "      <td>1482.8</td>\n",
       "    </tr>\n",
       "    <tr>\n",
       "      <th>18</th>\n",
       "      <td>Consumer Durables, Household and Personal Prod...</td>\n",
       "      <td>2</td>\n",
       "      <td>931.0</td>\n",
       "    </tr>\n",
       "    <tr>\n",
       "      <th>19</th>\n",
       "      <td>Telecommunication Services</td>\n",
       "      <td>2</td>\n",
       "      <td>417.6</td>\n",
       "    </tr>\n",
       "    <tr>\n",
       "      <th>20</th>\n",
       "      <td>Trading Companies &amp; Distributors and Commercia...</td>\n",
       "      <td>1</td>\n",
       "      <td>238.5</td>\n",
       "    </tr>\n",
       "    <tr>\n",
       "      <th>21</th>\n",
       "      <td>Textiles, Apparel, Footwear and Luxury Goods</td>\n",
       "      <td>2</td>\n",
       "      <td>227.2</td>\n",
       "    </tr>\n",
       "    <tr>\n",
       "      <th>22</th>\n",
       "      <td>Food &amp; Beverage Processing</td>\n",
       "      <td>6</td>\n",
       "      <td>139.2</td>\n",
       "    </tr>\n",
       "    <tr>\n",
       "      <th>23</th>\n",
       "      <td>Utilities</td>\n",
       "      <td>1</td>\n",
       "      <td>121.2</td>\n",
       "    </tr>\n",
       "    <tr>\n",
       "      <th>24</th>\n",
       "      <td>Gas Utilities</td>\n",
       "      <td>1</td>\n",
       "      <td>60.6</td>\n",
       "    </tr>\n",
       "    <tr>\n",
       "      <th>25</th>\n",
       "      <td>Semiconductors &amp; Semiconductor Equipment</td>\n",
       "      <td>2</td>\n",
       "      <td>51.7</td>\n",
       "    </tr>\n",
       "    <tr>\n",
       "      <th>26</th>\n",
       "      <td>Retailing</td>\n",
       "      <td>1</td>\n",
       "      <td>21.8</td>\n",
       "    </tr>\n",
       "    <tr>\n",
       "      <th>27</th>\n",
       "      <td>Semiconductors &amp; Semiconductors Equipment</td>\n",
       "      <td>1</td>\n",
       "      <td>2.1</td>\n",
       "    </tr>\n",
       "    <tr>\n",
       "      <th>28</th>\n",
       "      <td>Tobacco</td>\n",
       "      <td>1</td>\n",
       "      <td>0.7</td>\n",
       "    </tr>\n",
       "    <tr>\n",
       "      <th>29</th>\n",
       "      <td>Household &amp; Personal Products</td>\n",
       "      <td>1</td>\n",
       "      <td>0.3</td>\n",
       "    </tr>\n",
       "  </tbody>\n",
       "</table>\n",
       "</div>"
      ],
      "text/plain": [
       "                                       industry_group  ...  total_industry_footprint\n",
       "0                  Electrical Equipment and Machinery  ...                 9801557.6\n",
       "1                            Automobiles & Components  ...                 2582263.4\n",
       "2                                           Materials  ...                  430198.4\n",
       "3                     Technology Hardware & Equipment  ...                  278653.9\n",
       "4                                       Capital Goods  ...                  258632.7\n",
       "5                            Food, Beverage & Tobacco  ...                  109134.6\n",
       "6      Pharmaceuticals, Biotechnology & Life Sciences  ...                   72486.0\n",
       "7                                 Software & Services  ...                   46534.5\n",
       "8                                           Chemicals  ...                   44939.7\n",
       "9                                               Media  ...                   23016.7\n",
       "10                                             Energy  ...                   10774.1\n",
       "11  Forest and Paper Products - Forestry, Timber, ...  ...                    8909.5\n",
       "12              Mining - Iron, Aluminum, Other Metals  ...                    8181.0\n",
       "13                        Consumer Durables & Apparel  ...                    7096.7\n",
       "14                 Commercial & Professional Services  ...                    4920.6\n",
       "15                             Containers & Packaging  ...                    2988.1\n",
       "16                                              Tires  ...                    2021.7\n",
       "17                           Food & Staples Retailing  ...                    1482.8\n",
       "18  Consumer Durables, Household and Personal Prod...  ...                     931.0\n",
       "19                         Telecommunication Services  ...                     417.6\n",
       "20  Trading Companies & Distributors and Commercia...  ...                     238.5\n",
       "21       Textiles, Apparel, Footwear and Luxury Goods  ...                     227.2\n",
       "22                         Food & Beverage Processing  ...                     139.2\n",
       "23                                          Utilities  ...                     121.2\n",
       "24                                      Gas Utilities  ...                      60.6\n",
       "25           Semiconductors & Semiconductor Equipment  ...                      51.7\n",
       "26                                          Retailing  ...                      21.8\n",
       "27          Semiconductors & Semiconductors Equipment  ...                       2.1\n",
       "28                                            Tobacco  ...                       0.7\n",
       "29                      Household & Personal Products  ...                       0.3\n",
       "\n",
       "[30 rows x 3 columns]"
      ]
     },
     "execution_count": 76,
     "metadata": {},
     "output_type": "execute_result"
    }
   ],
   "source": [
    "-- number of companies\n",
    "-- combined PCF per industry group\n",
    "-- order by PCF high to low\n",
    "SELECT industry_group,\n",
    "\t   COUNT(DISTINCT company) AS num_companies,\n",
    "\t   ROUND(SUM(carbon_footprint_pcf), 1) AS total_industry_footprint\n",
    "FROM product_emissions\n",
    "GROUP BY industry_group\n",
    "ORDER BY total_industry_footprint DESC;"
   ]
  },
  {
   "cell_type": "markdown",
   "id": "a53a6f90-3ea7-453e-b298-ea44e7c68a9c",
   "metadata": {},
   "source": [
    "## 3. Product carbon industry per industry group in 2017"
   ]
  },
  {
   "cell_type": "code",
   "execution_count": 77,
   "id": "573c06d7-6bc5-4379-8db5-c4a4df55cab4",
   "metadata": {
    "customType": "sql",
    "dataFrameVariableName": "df2",
    "executionCancelledAt": null,
    "executionTime": 865,
    "lastExecutedAt": 1698683913847,
    "lastScheduledRunId": null,
    "lastSuccessfullyExecutedCode": "-- find out most recent year\nSELECT MAX(year)\nFROM product_emissions;",
    "outputsMetadata": {
     "0": {
      "height": 96,
      "type": "dataFrame"
     }
    },
    "sqlCellMode": "dataFrame",
    "sqlSource": {
     "integrationId": "89e17161-a224-4a8a-846b-0adc0fe7a4b1",
     "type": "integration"
    }
   },
   "outputs": [
    {
     "@datacamp/metadata": {
      "executedQuery": "-- find out most recent year\nSELECT MAX(year)\nFROM product_emissions;",
      "executedQueryParameters": []
     },
     "data": {
      "application/com.datacamp.data-table.v1+json": {
       "table": {
        "data": [
         {
          "index": 0,
          "max": 2017
         }
        ],
        "schema": {
         "fields": [
          {
           "name": "index",
           "type": "integer"
          },
          {
           "name": "max",
           "type": "integer"
          }
         ],
         "pandas_version": "1.4.0",
         "primaryKey": [
          "index"
         ]
        }
       },
       "total_rows": 1,
       "truncation_type": null
      },
      "text/html": [
       "<div>\n",
       "<style scoped>\n",
       "    .dataframe tbody tr th:only-of-type {\n",
       "        vertical-align: middle;\n",
       "    }\n",
       "\n",
       "    .dataframe tbody tr th {\n",
       "        vertical-align: top;\n",
       "    }\n",
       "\n",
       "    .dataframe thead th {\n",
       "        text-align: right;\n",
       "    }\n",
       "</style>\n",
       "<table border=\"1\" class=\"dataframe\">\n",
       "  <thead>\n",
       "    <tr style=\"text-align: right;\">\n",
       "      <th></th>\n",
       "      <th>max</th>\n",
       "    </tr>\n",
       "  </thead>\n",
       "  <tbody>\n",
       "    <tr>\n",
       "      <th>0</th>\n",
       "      <td>2017</td>\n",
       "    </tr>\n",
       "  </tbody>\n",
       "</table>\n",
       "</div>"
      ],
      "text/plain": [
       "    max\n",
       "0  2017"
      ]
     },
     "execution_count": 77,
     "metadata": {},
     "output_type": "execute_result"
    }
   ],
   "source": [
    "-- find out most recent year\n",
    "SELECT MAX(year)\n",
    "FROM product_emissions;"
   ]
  },
  {
   "cell_type": "code",
   "execution_count": 78,
   "id": "f76f5039-ed23-424e-84e7-143d44331a05",
   "metadata": {
    "chartConfig": {
     "bar": {
      "hasRoundedCorners": true,
      "stacked": false
     },
     "type": "bar",
     "version": "v1"
    },
    "collapsed": false,
    "customType": "sql",
    "dataFrameVariableName": "carbon_emissions_by_industry",
    "executionCancelledAt": null,
    "executionTime": 776,
    "jupyter": {
     "outputs_hidden": false,
     "source_hidden": false
    },
    "lastExecutedAt": 1698683914623,
    "lastScheduledRunId": null,
    "lastSuccessfullyExecutedCode": "-- get PCF per industry for 2017 (most recent year)\nSELECT industry_group,\n\t   COUNT(DISTINCT company) AS num_companies,\n\t   ROUND(SUM(carbon_footprint_pcf), 1) AS total_industry_footprint\nFROM product_emissions\nWHERE year IN (\n\t   SELECT MAX(year)\n\t   FROM product_emissions)\nGROUP BY industry_group\nORDER BY total_industry_footprint DESC;",
    "outputsMetadata": {
     "0": {
      "height": 218,
      "type": "dataFrame"
     }
    },
    "sqlCellMode": "dataFrame",
    "sqlSource": {
     "integrationId": "89e17161-a224-4a8a-846b-0adc0fe7a4b1",
     "type": "integration"
    },
    "visualizeDataframe": false
   },
   "outputs": [
    {
     "@datacamp/metadata": {
      "executedQuery": "-- get PCF per industry for 2017 (most recent year)\nSELECT industry_group,\n\t   COUNT(DISTINCT company) AS num_companies,\n\t   ROUND(SUM(carbon_footprint_pcf), 1) AS total_industry_footprint\nFROM product_emissions\nWHERE year IN (\n\t   SELECT MAX(year)\n\t   FROM product_emissions)\nGROUP BY industry_group\nORDER BY total_industry_footprint DESC;",
      "executedQueryParameters": []
     },
     "data": {
      "application/com.datacamp.data-table.v1+json": {
       "table": {
        "data": [
         {
          "index": 0,
          "industry_group": "Materials",
          "num_companies": 3,
          "total_industry_footprint": 107129
         },
         {
          "index": 1,
          "industry_group": "Capital Goods",
          "num_companies": 2,
          "total_industry_footprint": 94942.7
         },
         {
          "index": 2,
          "industry_group": "Technology Hardware & Equipment",
          "num_companies": 4,
          "total_industry_footprint": 21865.1
         },
         {
          "index": 3,
          "industry_group": "Food, Beverage & Tobacco",
          "num_companies": 1,
          "total_industry_footprint": 3161.5
         },
         {
          "index": 4,
          "industry_group": "Commercial & Professional Services",
          "num_companies": 1,
          "total_industry_footprint": 740.6
         },
         {
          "index": 5,
          "industry_group": "Software & Services",
          "num_companies": 1,
          "total_industry_footprint": 690
         }
        ],
        "schema": {
         "fields": [
          {
           "name": "index",
           "type": "integer"
          },
          {
           "name": "industry_group",
           "type": "string"
          },
          {
           "name": "num_companies",
           "type": "integer"
          },
          {
           "name": "total_industry_footprint",
           "type": "number"
          }
         ],
         "pandas_version": "1.4.0",
         "primaryKey": [
          "index"
         ]
        }
       },
       "total_rows": 6,
       "truncation_type": null
      },
      "text/html": [
       "<div>\n",
       "<style scoped>\n",
       "    .dataframe tbody tr th:only-of-type {\n",
       "        vertical-align: middle;\n",
       "    }\n",
       "\n",
       "    .dataframe tbody tr th {\n",
       "        vertical-align: top;\n",
       "    }\n",
       "\n",
       "    .dataframe thead th {\n",
       "        text-align: right;\n",
       "    }\n",
       "</style>\n",
       "<table border=\"1\" class=\"dataframe\">\n",
       "  <thead>\n",
       "    <tr style=\"text-align: right;\">\n",
       "      <th></th>\n",
       "      <th>industry_group</th>\n",
       "      <th>num_companies</th>\n",
       "      <th>total_industry_footprint</th>\n",
       "    </tr>\n",
       "  </thead>\n",
       "  <tbody>\n",
       "    <tr>\n",
       "      <th>0</th>\n",
       "      <td>Materials</td>\n",
       "      <td>3</td>\n",
       "      <td>107129.0</td>\n",
       "    </tr>\n",
       "    <tr>\n",
       "      <th>1</th>\n",
       "      <td>Capital Goods</td>\n",
       "      <td>2</td>\n",
       "      <td>94942.7</td>\n",
       "    </tr>\n",
       "    <tr>\n",
       "      <th>2</th>\n",
       "      <td>Technology Hardware &amp; Equipment</td>\n",
       "      <td>4</td>\n",
       "      <td>21865.1</td>\n",
       "    </tr>\n",
       "    <tr>\n",
       "      <th>3</th>\n",
       "      <td>Food, Beverage &amp; Tobacco</td>\n",
       "      <td>1</td>\n",
       "      <td>3161.5</td>\n",
       "    </tr>\n",
       "    <tr>\n",
       "      <th>4</th>\n",
       "      <td>Commercial &amp; Professional Services</td>\n",
       "      <td>1</td>\n",
       "      <td>740.6</td>\n",
       "    </tr>\n",
       "    <tr>\n",
       "      <th>5</th>\n",
       "      <td>Software &amp; Services</td>\n",
       "      <td>1</td>\n",
       "      <td>690.0</td>\n",
       "    </tr>\n",
       "  </tbody>\n",
       "</table>\n",
       "</div>"
      ],
      "text/plain": [
       "                       industry_group  num_companies  total_industry_footprint\n",
       "0                           Materials              3                  107129.0\n",
       "1                       Capital Goods              2                   94942.7\n",
       "2     Technology Hardware & Equipment              4                   21865.1\n",
       "3            Food, Beverage & Tobacco              1                    3161.5\n",
       "4  Commercial & Professional Services              1                     740.6\n",
       "5                 Software & Services              1                     690.0"
      ]
     },
     "execution_count": 78,
     "metadata": {},
     "output_type": "execute_result"
    }
   ],
   "source": [
    "-- get PCF per industry for 2017 (most recent year)\n",
    "SELECT industry_group,\n",
    "\t   COUNT(DISTINCT company) AS num_companies,\n",
    "\t   ROUND(SUM(carbon_footprint_pcf), 1) AS total_industry_footprint\n",
    "FROM product_emissions\n",
    "WHERE year IN (\n",
    "\t   SELECT MAX(year)\n",
    "\t   FROM product_emissions)\n",
    "GROUP BY industry_group\n",
    "ORDER BY total_industry_footprint DESC;"
   ]
  }
 ],
 "metadata": {
  "colab": {
   "name": "Welcome to DataCamp Workspaces.ipynb",
   "provenance": []
  },
  "kernelspec": {
   "display_name": "Python 3 (ipykernel)",
   "language": "python",
   "name": "python3"
  },
  "language_info": {
   "codemirror_mode": {
    "name": "ipython",
    "version": 3
   },
   "file_extension": ".py",
   "mimetype": "text/x-python",
   "name": "python",
   "nbconvert_exporter": "python",
   "pygments_lexer": "ipython3",
   "version": "3.10.9"
  }
 },
 "nbformat": 4,
 "nbformat_minor": 5
}
